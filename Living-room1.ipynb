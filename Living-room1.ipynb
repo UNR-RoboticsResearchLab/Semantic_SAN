{
 "cells": [
  {
   "cell_type": "code",
   "execution_count": 31,
   "metadata": {},
   "outputs": [
    {
     "name": "stdout",
     "output_type": "stream",
     "text": [
      "Initialize return: {'cameraNearPlane': 0.1, 'cameraFarPlane': 20.0}\n"
     ]
    }
   ],
   "source": [
    "import ai2thor.controller\n",
    "controller = ai2thor.controller.Controller()"
   ]
  },
  {
   "cell_type": "code",
   "execution_count": 32,
   "metadata": {},
   "outputs": [
    {
     "name": "stdout",
     "output_type": "stream",
     "text": [
      "Initialize return: {'cameraNearPlane': 0.1, 'cameraFarPlane': 20.0}\n"
     ]
    }
   ],
   "source": [
    "from ai2thor.controller import Controller\n",
    "\n",
    "with Controller(scene='FloorPlan202', gridSize=0.25, quality='Low') as c:\n",
    "    event = c.step(action='MoveAhead')\n",
    "    event.frame\n",
    "    event.cv2image\n",
    "    event.metadata"
   ]
  },
  {
   "cell_type": "code",
   "execution_count": 34,
   "metadata": {},
   "outputs": [
    {
     "name": "stdout",
     "output_type": "stream",
     "text": [
      "PaintingPainting|-03.05|+01.69|+04.34\n",
      "FloorFloor|+00.00|+00.00|+00.00\n",
      "CurtainsCurtains|-03.97|+02.26|+01.45\n",
      "BookBook|-01.94|+00.70|+03.61\n",
      "BoxBox|+00.33|+00.90|+00.49\n",
      "PaintingPainting|-01.10|+01.77|-00.02\n",
      "LightSwitchLightSwitch|-00.13|+01.41|+04.35\n",
      "GarbageCanGarbageCan|-00.38|+00.00|+04.10\n",
      "TelevisionTelevision|-01.51|+01.19|+04.13\n",
      "HousePlantHousePlant|-02.02|+00.45|+02.36\n",
      "LaptopLaptop|-03.22|+00.61|+00.58\n",
      "KeyChainKeyChain|-01.01|+00.70|+03.53\n",
      "PillowPillow|-00.50|+00.69|+00.50\n",
      "FloorLampFloorLamp|-03.69|00.00|+04.01\n",
      "RemoteControlRemoteControl|-01.27|+00.44|+02.15\n",
      "CreditCardCreditCard|-02.10|+00.44|+02.58\n",
      "WatchWatch|-01.22|+00.70|+03.47\n",
      "WindowWindow|-04.05|+01.20|+01.31\n",
      "StatueStatue|+00.86|+00.71|+00.33\n",
      "SideTableSideTable|+00.63|+00.01|+00.34\n",
      "CoffeeTableCoffeeTable|-01.74|+00.01|+02.36\n",
      "SofaSofa|-01.14|00.00|+00.52\n",
      "TVStandTVStand|-01.57|+00.00|+03.87\n",
      "ShelfShelf|+00.62|+00.24|+00.34\n",
      "ArmChairArmChair|-03.06|+00.00|+00.52\n"
     ]
    }
   ],
   "source": [
    "for o in event.metadata['objects']:\n",
    "    print(o['objectType']+ o['objectId'])\n",
    "    "
   ]
  },
  {
   "cell_type": "code",
   "execution_count": 35,
   "metadata": {},
   "outputs": [
    {
     "name": "stdout",
     "output_type": "stream",
     "text": [
      "Sofa is in the scene\n"
     ]
    }
   ],
   "source": [
    "for o in event.metadata['objects']:\n",
    "    if o['visible'] and o['objectType'] == 'Sofa':\n",
    "        print(\"Sofa is in the scene\")\n",
    "\n"
   ]
  },
  {
   "cell_type": "code",
   "execution_count": 36,
   "metadata": {},
   "outputs": [],
   "source": [
    "for o in event.metadata['objects']:\n",
    "    if o['visible'] and o['objectType'] == 'Box':\n",
    "        print(\"Box is in the scene\")\n",
    "#Box is not visible"
   ]
  },
  {
   "cell_type": "code",
   "execution_count": 40,
   "metadata": {},
   "outputs": [
    {
     "ename": "NameError",
     "evalue": "name 'Sofa' is not defined",
     "output_type": "error",
     "traceback": [
      "\u001b[0;31m---------------------------------------------------------------------------\u001b[0m",
      "\u001b[0;31mNameError\u001b[0m                                 Traceback (most recent call last)",
      "\u001b[0;32m<ipython-input-40-1f5f4af32b59>\u001b[0m in \u001b[0;36m<module>\u001b[0;34m()\u001b[0m\n\u001b[0;32m----> 1\u001b[0;31m \u001b[0mevent\u001b[0m \u001b[0;34m=\u001b[0m \u001b[0mc\u001b[0m\u001b[0;34m.\u001b[0m\u001b[0mstep\u001b[0m\u001b[0;34m(\u001b[0m\u001b[0maction\u001b[0m \u001b[0;34m=\u001b[0m \u001b[0;34m'DisableObject'\u001b[0m\u001b[0;34m,\u001b[0m \u001b[0mobjectId\u001b[0m\u001b[0;34m=\u001b[0m\u001b[0mSofa\u001b[0m\u001b[0;34m|\u001b[0m\u001b[0;34m-\u001b[0m\u001b[0;36m01.14\u001b[0m\u001b[0;34m|\u001b[0m\u001b[0;36m00.00\u001b[0m\u001b[0;34m|\u001b[0m\u001b[0;34m+\u001b[0m\u001b[0;36m00.52\u001b[0m\u001b[0;34m)\u001b[0m\u001b[0;34m\u001b[0m\u001b[0m\n\u001b[0m",
      "\u001b[0;31mNameError\u001b[0m: name 'Sofa' is not defined"
     ]
    }
   ],
   "source": [
    "event = c.step(action = 'DisableObject', objectId=Sofa|-01.14|00.00|+00.52)"
   ]
  },
  {
   "cell_type": "code",
   "execution_count": null,
   "metadata": {},
   "outputs": [],
   "source": [
    "event = c.step(action = 'DisableObject', objectId='Sofa|-01.14|00.00|+00.52')"
   ]
  },
  {
   "cell_type": "code",
   "execution_count": null,
   "metadata": {},
   "outputs": [],
   "source": []
  }
 ],
 "metadata": {
  "kernelspec": {
   "display_name": "Python 3",
   "language": "python",
   "name": "python3"
  },
  "language_info": {
   "codemirror_mode": {
    "name": "ipython",
    "version": 3
   },
   "file_extension": ".py",
   "mimetype": "text/x-python",
   "name": "python",
   "nbconvert_exporter": "python",
   "pygments_lexer": "ipython3",
   "version": "3.5.2"
  }
 },
 "nbformat": 4,
 "nbformat_minor": 2
}
