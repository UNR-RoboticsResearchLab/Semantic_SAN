{
 "cells": [
  {
   "cell_type": "code",
   "execution_count": 14,
   "metadata": {},
   "outputs": [],
   "source": [
    "import ai2thor "
   ]
  },
  {
   "cell_type": "code",
   "execution_count": 15,
   "metadata": {},
   "outputs": [],
   "source": [
    "import ai2thor.controller"
   ]
  },
  {
   "cell_type": "code",
   "execution_count": 16,
   "metadata": {},
   "outputs": [
    {
     "name": "stdout",
     "output_type": "stream",
     "text": [
      "Initialize return: {'cameraNearPlane': 0.1, 'cameraFarPlane': 20.0}\n"
     ]
    }
   ],
   "source": [
    "controller = ai2thor.controller.Controller()"
   ]
  },
  {
   "cell_type": "code",
   "execution_count": 17,
   "metadata": {},
   "outputs": [
    {
     "name": "stdout",
     "output_type": "stream",
     "text": [
      "Initialize return: {'cameraNearPlane': 0.1, 'cameraFarPlane': 20.0}\n"
     ]
    }
   ],
   "source": [
    "from ai2thor.controller import Controller\n",
    "\n",
    "with Controller(scene='FloorPlan28', gridSize=0.25, quality='Low') as c:\n",
    "    event = c.step(action='MoveAhead')\n",
    "    event.frame\n",
    "    event.cv2image\n",
    "    event.metadata"
   ]
  },
  {
   "cell_type": "code",
   "execution_count": 19,
   "metadata": {},
   "outputs": [
    {
     "name": "stdout",
     "output_type": "stream",
     "text": [
      "Initialize return: {'cameraNearPlane': 0.1, 'cameraFarPlane': 20.0}\n"
     ]
    },
    {
     "name": "stderr",
     "output_type": "stream",
     "text": [
      "Exception in thread Thread-24:\n",
      "Traceback (most recent call last):\n",
      "  File \"/usr/lib/python3.5/threading.py\", line 914, in _bootstrap_inner\n",
      "    self.run()\n",
      "  File \"/usr/lib/python3.5/threading.py\", line 862, in run\n",
      "    self._target(*self._args, **self._kwargs)\n",
      "  File \"/usr/local/lib/python3.5/dist-packages/ai2thor/controller.py\", line 733, in _start_unity_thread\n",
      "    raise Exception(\"command: %s exited with %s\" % (command, returncode))\n",
      "Exception: command: ['/home/roya/.ai2thor/releases/thor-Linux64-202005181320/thor-Linux64-202005181320', '-screen-fullscreen', '0', '-screen-quality', '7', '-screen-width', '300', '-screen-height', '300'] exited with -9\n",
      "\n",
      "Exception in thread Thread-20:\n",
      "Traceback (most recent call last):\n",
      "  File \"/usr/lib/python3.5/threading.py\", line 914, in _bootstrap_inner\n",
      "    self.run()\n",
      "  File \"/usr/lib/python3.5/threading.py\", line 862, in run\n",
      "    self._target(*self._args, **self._kwargs)\n",
      "  File \"/usr/local/lib/python3.5/dist-packages/ai2thor/controller.py\", line 733, in _start_unity_thread\n",
      "    raise Exception(\"command: %s exited with %s\" % (command, returncode))\n",
      "Exception: command: ['/home/roya/.ai2thor/releases/thor-Linux64-202005181320/thor-Linux64-202005181320', '-screen-fullscreen', '0', '-screen-quality', '7', '-screen-width', '300', '-screen-height', '300'] exited with -9\n",
      "\n"
     ]
    }
   ],
   "source": [
    "from ai2thor.controller import Controller\n",
    "controller = Controller(scene='FloorPlan28', gridSize=0.25)\n",
    "\n",
    "# change starting locations\n",
    "controller.step(action='Teleport', x=-2.5, y=0.900998235, z=-3.0)\n",
    "controller.step(action='LookDown')\n",
    "event = controller.step(action='Rotate', rotation=180)\n",
    "\n",
    "# in FloorPlan28, the agent should now be looking at a mug\n",
    "for o in event.metadata['objects']:\n",
    "    if o['visible'] and o['pickupable'] and o['objectType'] == 'Mug':\n",
    "        # pick up the mug\n",
    "        event = controller.step(action='PickupObject',\n",
    "                                objectId=o['objectId'],\n",
    "                                raise_for_failure=True)\n",
    "        mug_object_id = o['objectId']\n",
    "        break\n",
    "\n",
    "# the agent now has the Mug in its inventory\n",
    "# to put it into the Microwave, we need to open the microwave first\n",
    "\n",
    "# move to the microwave\n",
    "event = controller.step(action='LookUp')\n",
    "event = controller.step(action='RotateLeft')\n",
    "event = controller.step(action='MoveLeft', moveMagnitude=0.25 * 4)\n",
    "event = controller.step(action='MoveAhead', moveMagnitude=0.25 * 6)\n",
    "\n",
    "# the agent should now be looking at the microwave\n",
    "for o in event.metadata['objects']:\n",
    "    if o['visible'] and o['openable'] and o['objectType'] == 'Microwave':\n",
    "        # open the microwave\n",
    "        event = controller.step(action='OpenObject',\n",
    "                                objectId=o['objectId'],\n",
    "                                raise_for_failure=True)\n",
    "        receptacle_object_id = o['objectId']\n",
    "        break\n",
    "\n",
    "# put the object in the microwave\n",
    "event = controller.step(\n",
    "    action='PutObject',\n",
    "    receptacleObjectId=receptacle_object_id,\n",
    "    objectId=mug_object_id,\n",
    "    raise_for_failure=True)\n",
    "\n",
    "# close the microwave\n",
    "event = controller.step(\n",
    "    action='CloseObject',\n",
    "    objectId=receptacle_object_id,\n",
    "    raise_for_failure=True)"
   ]
  },
  {
   "cell_type": "code",
   "execution_count": null,
   "metadata": {},
   "outputs": [],
   "source": []
  }
 ],
 "metadata": {
  "kernelspec": {
   "display_name": "Python 3",
   "language": "python",
   "name": "python3"
  },
  "language_info": {
   "codemirror_mode": {
    "name": "ipython",
    "version": 3
   },
   "file_extension": ".py",
   "mimetype": "text/x-python",
   "name": "python",
   "nbconvert_exporter": "python",
   "pygments_lexer": "ipython3",
   "version": "3.5.2"
  }
 },
 "nbformat": 4,
 "nbformat_minor": 2
}
